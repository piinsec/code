{
 "cells": [
  {
   "cell_type": "code",
   "execution_count": 1,
   "id": "989de0a4",
   "metadata": {},
   "outputs": [
    {
     "name": "stdout",
     "output_type": "stream",
     "text": [
      "Hello\n"
     ]
    }
   ],
   "source": [
    "print(\"Hello\")"
   ]
  },
  {
   "cell_type": "code",
   "execution_count": 3,
   "id": "2ebd55aa",
   "metadata": {},
   "outputs": [
    {
     "name": "stdout",
     "output_type": "stream",
     "text": [
      "<class 'str'>\n",
      "Hello\n"
     ]
    }
   ],
   "source": [
    "checktype = \"Hello\"\n",
    "print(type(checktype))\n",
    "print(checktype)"
   ]
  },
  {
   "cell_type": "code",
   "execution_count": 4,
   "id": "902fa651",
   "metadata": {},
   "outputs": [
    {
     "name": "stdout",
     "output_type": "stream",
     "text": [
      "<class 'bytes'>\n",
      "b'Hello'\n"
     ]
    }
   ],
   "source": [
    "checktype = b\"Hello\"\n",
    "print(type(checktype))\n",
    "print(checktype)"
   ]
  },
  {
   "cell_type": "code",
   "execution_count": 5,
   "id": "1ee6dcf2",
   "metadata": {},
   "outputs": [
    {
     "name": "stdout",
     "output_type": "stream",
     "text": [
      "<class 'int'>\n",
      "123\n"
     ]
    }
   ],
   "source": [
    "checktype = 123\n",
    "print(type(checktype))\n",
    "print(checktype)"
   ]
  },
  {
   "cell_type": "code",
   "execution_count": 6,
   "id": "36644ac6",
   "metadata": {},
   "outputs": [
    {
     "name": "stdout",
     "output_type": "stream",
     "text": [
      "<class 'float'>\n",
      "123.33\n"
     ]
    }
   ],
   "source": [
    "checktype = 123.33\n",
    "print(type(checktype))\n",
    "print(checktype)"
   ]
  },
  {
   "cell_type": "code",
   "execution_count": 8,
   "id": "684fba9b",
   "metadata": {},
   "outputs": [
    {
     "name": "stdout",
     "output_type": "stream",
     "text": [
      "<class 'range'>\n",
      "range(0, 10)\n"
     ]
    }
   ],
   "source": [
    "checktype = range(10)\n",
    "print(type(checktype))\n",
    "print(checktype)"
   ]
  },
  {
   "cell_type": "code",
   "execution_count": 13,
   "id": "85168c11",
   "metadata": {},
   "outputs": [
    {
     "name": "stdout",
     "output_type": "stream",
     "text": [
      "<class 'list'>\n",
      "[100, 100, 200]\n"
     ]
    }
   ],
   "source": [
    "#list\n",
    "checktype = [100,100,200]\n",
    "print(type(checktype))\n",
    "print(checktype)"
   ]
  },
  {
   "cell_type": "code",
   "execution_count": 14,
   "id": "9a4fa535",
   "metadata": {},
   "outputs": [
    {
     "name": "stdout",
     "output_type": "stream",
     "text": [
      "<class 'set'>\n",
      "{200, 100}\n"
     ]
    }
   ],
   "source": [
    "#Set \n",
    "checktype = {100,100,200}\n",
    "print(type(checktype))\n",
    "print(checktype)"
   ]
  },
  {
   "cell_type": "code",
   "execution_count": null,
   "id": "77899c9d",
   "metadata": {},
   "outputs": [
    {
     "name": "stdout",
     "output_type": "stream",
     "text": [
      "<class 'dict'>\n",
      "{'a': 100, 'b': 100, 'c': 200}\n"
     ]
    }
   ],
   "source": [
    "#Ditct {\"key\" : value}\n",
    "checktype = {\"a\" : 100, \"b\" : 100, \"c\" : 200}\n",
    "print(type(checktype))\n",
    "print(checktype)"
   ]
  },
  {
   "cell_type": "code",
   "execution_count": 18,
   "id": "6be972af",
   "metadata": {},
   "outputs": [
    {
     "name": "stdout",
     "output_type": "stream",
     "text": [
      "<class 'NoneType'>\n",
      "None\n"
     ]
    }
   ],
   "source": [
    "checktype = None\n",
    "print(type(checktype))\n",
    "print(checktype)"
   ]
  },
  {
   "cell_type": "code",
   "execution_count": 23,
   "id": "4b04e01a",
   "metadata": {},
   "outputs": [
    {
     "name": "stdout",
     "output_type": "stream",
     "text": [
      "0,1,2,3,4,5,6,7,8,9,"
     ]
    }
   ],
   "source": [
    "#for loop\n",
    "n_range = range(10)\n",
    "for i in n_range:\n",
    "    #print(i)\n",
    "    print(i,end=\",\")"
   ]
  },
  {
   "cell_type": "code",
   "execution_count": null,
   "id": "cdee9953",
   "metadata": {},
   "outputs": [
    {
     "name": "stdout",
     "output_type": "stream",
     "text": [
      "Index of list :  0\n",
      "i in the list :  1000\n",
      "Index of list :  1\n",
      "i in the list :  2000\n",
      "Index of list :  2\n",
      "i in the list :  3000\n",
      "Index of list :  3\n",
      "i in the list :  5000\n"
     ]
    }
   ],
   "source": [
    "# for loop in list\n",
    "n_list = [1000, 2000, 3000, 5000]\n",
    "#print(len(n_list))\n",
    "\n",
    "for i in range(0,len(n_list),1): #start and step value can be change\n",
    "    print(\"Index of list : \", i)\n",
    "    print(\"i in the list : \", n_list[i])"
   ]
  },
  {
   "cell_type": "code",
   "execution_count": 30,
   "id": "d0681cfe",
   "metadata": {},
   "outputs": [
    {
     "name": "stdout",
     "output_type": "stream",
     "text": [
      "1000\n",
      "2000\n",
      "3000\n",
      "5000\n"
     ]
    }
   ],
   "source": [
    "#for each loop\n",
    "for n_value in n_list:\n",
    "    print(n_value)"
   ]
  },
  {
   "cell_type": "code",
   "execution_count": null,
   "id": "b1247cf6",
   "metadata": {},
   "outputs": [
    {
     "name": "stdout",
     "output_type": "stream",
     "text": [
      "1\n",
      "2\n",
      "3\n",
      "4\n",
      "5\n",
      "6\n",
      "7\n",
      "8\n",
      "9\n"
     ]
    }
   ],
   "source": [
    "#while loop လုပ်ပြီးမှ စစ်\n",
    "index = 1\n",
    "while index < 10:\n",
    "    print(index)\n",
    "    index = index + 1"
   ]
  },
  {
   "cell_type": "code",
   "execution_count": 3,
   "id": "dacd7cfa",
   "metadata": {},
   "outputs": [
    {
     "name": "stdout",
     "output_type": "stream",
     "text": [
      "Try again!\n",
      "Try again!\n",
      "Your flag is correct!\n"
     ]
    }
   ],
   "source": [
    "#do while မလုပ်ခင်စစ်\n",
    "flag = \"win\"\n",
    "while True:\n",
    "    ans = input(\"Enter your flag : \").lower()\n",
    "    if ans == flag:\n",
    "        print(\"Your flag is correct!\")\n",
    "        break\n",
    "    else:\n",
    "        print(\"Try again!\")\n",
    "\n",
    "    \n"
   ]
  },
  {
   "cell_type": "code",
   "execution_count": 10,
   "id": "7b7e3870",
   "metadata": {},
   "outputs": [
    {
     "name": "stdout",
     "output_type": "stream",
     "text": [
      "Answer :  20\n"
     ]
    }
   ],
   "source": [
    "def addtwonum(num1, num2):\n",
    "    result = num1 + num2\n",
    "    return result\n",
    "\n",
    "num1 = int(input(\"Enter first num : \"))\n",
    "num2 = int(input(\"Enter second number : \"))\n",
    "result = (addtwonum(num1,num2))\n",
    "print(\"Answer : \",result)"
   ]
  },
  {
   "cell_type": "code",
   "execution_count": 1,
   "id": "3158e8e9",
   "metadata": {},
   "outputs": [],
   "source": [
    "#list\n",
    "def appendlist(itemName, itemList = None) -> list:\n",
    "    if itemList == None:\n",
    "        itemList = []\n",
    "\n",
    "    itemList.append(itemName)\n",
    "    return(itemList)\n",
    "\n"
   ]
  },
  {
   "cell_type": "code",
   "execution_count": 4,
   "id": "a8c0c859",
   "metadata": {},
   "outputs": [
    {
     "data": {
      "text/plain": [
       "['gpu']"
      ]
     },
     "execution_count": 4,
     "metadata": {},
     "output_type": "execute_result"
    }
   ],
   "source": [
    "itemList = None\n",
    "itemList = appendlist(input(\"Enter item to add\"))\n",
    "itemList"
   ]
  },
  {
   "cell_type": "code",
   "execution_count": 11,
   "id": "0e4e713b",
   "metadata": {},
   "outputs": [
    {
     "name": "stdout",
     "output_type": "stream",
     "text": [
      "List :  ['laptop', 'item', 'number', '', '']\n"
     ]
    }
   ],
   "source": [
    "def create_list_with_input(size):\n",
    "    myList = []\n",
    "    for i in range(size):\n",
    "        item = input(f\"Enter items add to the list : {i + 1}\")\n",
    "        myList.append(item)\n",
    "    return myList\n",
    "\n",
    "\n",
    "list_size = int(input(\"Enter your size\"))\n",
    "list = create_list_with_input(list_size)\n",
    "print(\"List : \",list) "
   ]
  },
  {
   "cell_type": "code",
   "execution_count": 1,
   "id": "740cd334",
   "metadata": {},
   "outputs": [
    {
     "name": "stdout",
     "output_type": "stream",
     "text": [
      "UserList :  ['a', 's', 'd', 'f', 'g', 'h', 'j', 'k', 'l']\n"
     ]
    }
   ],
   "source": [
    "def create_list_until_done():\n",
    "     my_list = []\n",
    "     while True:\n",
    "        item = input(\"Enter an element (or 'done' to finish): \")\n",
    "        if item.lower() == \"done\":\n",
    "            break\n",
    "        my_list.append(item)\n",
    "     return my_list\n",
    "\n",
    "user_list = create_list_until_done()\n",
    "print(\"UserList : \", user_list)"
   ]
  },
  {
   "cell_type": "code",
   "execution_count": 3,
   "id": "ae2c63bb",
   "metadata": {},
   "outputs": [
    {
     "name": "stdout",
     "output_type": "stream",
     "text": [
      "900\n",
      "800\n",
      "700\n",
      "600\n"
     ]
    }
   ],
   "source": [
    "player_health = 1000\n",
    "\n",
    "# reduce by 100 here\n",
    "player_health = player_health - 100\n",
    "print(player_health)\n",
    "player_health = player_health - 100\n",
    "# and here\n",
    "\n",
    "print(player_health)\n",
    "player_health = player_health - 100\n",
    "# and here\n",
    "\n",
    "print(player_health)\n",
    "player_health = player_health - 100\n",
    "# and here\n",
    "\n",
    "print(player_health)"
   ]
  },
  {
   "cell_type": "code",
   "execution_count": 4,
   "id": "17b5e219",
   "metadata": {},
   "outputs": [
    {
     "name": "stdout",
     "output_type": "stream",
     "text": [
      "90\n"
     ]
    }
   ],
   "source": [
    "player_health = 100\n",
    "poison_damage = 10\n",
    "\n",
    "# don't touch below this line\n",
    "\n",
    "player_poison_health = player_health - poison_damage\n",
    "\n",
    "print(player_poison_health)"
   ]
  },
  {
   "cell_type": "code",
   "execution_count": 2,
   "id": "d19e3c8f",
   "metadata": {},
   "outputs": [
    {
     "name": "stdout",
     "output_type": "stream",
     "text": [
      "Sword length: 1.0 meters.\n",
      "Sword attack area: 3.14 square meters\n",
      "Spear length: 2.0 meters.\n",
      "Spear attack area: 12.56 square meters\n"
     ]
    }
   ],
   "source": [
    "def area_of_circle(radius):\n",
    "    pi = 3.14\n",
    "    area = pi * radius * radius\n",
    "    return area\n",
    "\n",
    "\n",
    "sword_length = 1.0\n",
    "spear_length = 2.0\n",
    "\n",
    "# don't touch above this line\n",
    "\n",
    "sword_area = area_of_circle(sword_length)\n",
    "spear_area = area_of_circle(spear_length)\n",
    "\n",
    "# don't touch below this line\n",
    "\n",
    "print(\"Sword length:\", sword_length, \"meters.\")\n",
    "print(\"Sword attack area:\", sword_area, \"square meters\")\n",
    "\n",
    "print(\"Spear length:\", spear_length, \"meters.\")\n",
    "print(\"Spear attack area:\", spear_area, \"square meters\")\n"
   ]
  },
  {
   "cell_type": "code",
   "execution_count": null,
   "id": "7cf090dd",
   "metadata": {},
   "outputs": [],
   "source": [
    "def triple_attack(damage_one, damage_two, damage_three):\n",
    "    # ?\n",
    "\n",
    "\n",
    "# Don't touch below this line\n",
    "\n",
    "# This is the first triple attack\n",
    "attack_one = 2\n",
    "attack_two = 4\n",
    "attack_three = 3\n",
    "first_triple_attack_damage = triple_attack(attack_one, attack_two, attack_three)\n",
    "\n",
    "print(\"Getting damage for\", attack_one, attack_two, \"and\", attack_three, \"...\")\n",
    "print(first_triple_attack_damage, \"points of damage dealt!\")\n",
    "print(\"=====================================\")\n",
    "\n",
    "# This is the second triple attack\n",
    "attack_four = -1\n",
    "attack_five = 10\n",
    "attack_six = 5\n",
    "second_triple_attack_damage = triple_attack(attack_four, attack_five, attack_six)\n",
    "\n",
    "print(\"Getting damage for\", attack_four, attack_five, \"and\", attack_six, \"...\")\n",
    "print(second_triple_attack_damage, \"points of damage dealt!\")\n",
    "print(\"=====================================\")\n"
   ]
  }
 ],
 "metadata": {
  "kernelspec": {
   "display_name": "base",
   "language": "python",
   "name": "python3"
  },
  "language_info": {
   "codemirror_mode": {
    "name": "ipython",
    "version": 3
   },
   "file_extension": ".py",
   "mimetype": "text/x-python",
   "name": "python",
   "nbconvert_exporter": "python",
   "pygments_lexer": "ipython3",
   "version": "3.12.7"
  }
 },
 "nbformat": 4,
 "nbformat_minor": 5
}
